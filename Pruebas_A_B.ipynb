{
 "cells": [
  {
   "cell_type": "markdown",
   "metadata": {},
   "source": [
    "# Venta de productos alimenticios"
   ]
  },
  {
   "cell_type": "markdown",
   "metadata": {},
   "source": [
    "## Descripción del proyecto"
   ]
  },
  {
   "cell_type": "markdown",
   "metadata": {},
   "source": [
    "Trabajas en una empresa emergente que vende productos alimenticios. Debes investigar el comportamiento del usuario para la aplicación de la empresa.\n",
    "\n",
    "Primero, estudia el embudo de ventas. Descubre cómo los usuarios llegan a la etapa de compra. ¿Cuántos usuarios realmente llegan a esta etapa? ¿Cuántos se atascan en etapas anteriores? ¿Qué etapas en particular?\n",
    "\n",
    "Luego, observa los resultados de un test A/A/B (sigue leyendo para obtener más información sobre los test A/A/B). Al equipo de diseño le gustaría cambiar las fuentes de toda la aplicación, pero la gerencia teme que los usuarios piensen que el nuevo diseño es intimidante. Por ello, deciden tomar una decisión basada en los resultados de un test A/A/B.\n",
    "\n",
    "Los usuarios se dividen en tres grupos: dos grupos de control obtienen las fuentes antiguas y un grupo de prueba obtiene las nuevas. Descubre qué conjunto de fuentes produce mejores resultados.\n",
    "\n",
    "Crear dos grupos A tiene ciertas ventajas. Podemos establecer el principio de que solo confiaremos en la exactitud de nuestras pruebas cuando los dos grupos de control sean similares. Si hay diferencias significativas entre los grupos A, esto puede ayudarnos a descubrir factores que pueden estar distorsionando los resultados. La comparación de grupos de control también nos dice cuánto tiempo y datos necesitaremos cuando realicemos más tests.\n",
    "\n",
    "Utilizarás el mismo dataset para el análisis general y para el análisis A/A/B. En proyectos reales, los experimentos se llevan a cabo constantemente. El equipo de análisis estudia la calidad de una aplicación utilizando datos generales, sin prestar atención a si los usuarios participan en experimentos."
   ]
  },
  {
   "cell_type": "markdown",
   "metadata": {},
   "source": [
    "### Descripción de los datos\n"
   ]
  },
  {
   "cell_type": "markdown",
   "metadata": {},
   "source": [
    "Cada entrada de registro es una acción de usuario o un evento.\n",
    "\n",
    "EventName: nombre del evento.\n",
    "DeviceIDHash: identificador de usuario unívoco.\n",
    "EventTimestamp: hora del evento.\n",
    "ExpId: número de experimento. 246 y 247 son los grupos de control, y 248 es el grupo de prueba."
   ]
  },
  {
   "cell_type": "markdown",
   "metadata": {},
   "source": [
    "## Leer archivo y preparar los datos"
   ]
  },
  {
   "cell_type": "markdown",
   "metadata": {},
   "source": [
    "### Importar librerías"
   ]
  },
  {
   "cell_type": "code",
   "execution_count": 1,
   "metadata": {},
   "outputs": [],
   "source": [
    "import pandas as pd\n",
    "import numpy as np\n",
    "from matplotlib import pyplot as plt\n",
    "import matplotlib.dates as mdates\n",
    "import scipy.stats as st\n",
    "from statsmodels.stats.proportion import proportions_ztest\n",
    "import datetime as dt"
   ]
  },
  {
   "cell_type": "markdown",
   "metadata": {},
   "source": [
    "### Leer archivo y preparar los datos"
   ]
  },
  {
   "cell_type": "code",
   "execution_count": 2,
   "metadata": {},
   "outputs": [],
   "source": [
    "df_events = pd.read_csv('/datasets/logs_exp_us.csv', sep='\\t')"
   ]
  },
  {
   "cell_type": "code",
   "execution_count": 3,
   "metadata": {},
   "outputs": [
    {
     "name": "stdout",
     "output_type": "stream",
     "text": [
      "<class 'pandas.core.frame.DataFrame'>\n",
      "RangeIndex: 244126 entries, 0 to 244125\n",
      "Data columns (total 4 columns):\n",
      " #   Column          Non-Null Count   Dtype \n",
      "---  ------          --------------   ----- \n",
      " 0   EventName       244126 non-null  object\n",
      " 1   DeviceIDHash    244126 non-null  int64 \n",
      " 2   EventTimestamp  244126 non-null  int64 \n",
      " 3   ExpId           244126 non-null  int64 \n",
      "dtypes: int64(3), object(1)\n",
      "memory usage: 7.5+ MB\n",
      "None\n",
      "                 EventName         DeviceIDHash  EventTimestamp  ExpId\n",
      "0         MainScreenAppear  4575588528974610257      1564029816    246\n",
      "1         MainScreenAppear  7416695313311560658      1564053102    246\n",
      "2  PaymentScreenSuccessful  3518123091307005509      1564054127    248\n",
      "3         CartScreenAppear  3518123091307005509      1564054127    248\n",
      "4  PaymentScreenSuccessful  6217807653094995999      1564055322    248\n"
     ]
    }
   ],
   "source": [
    "print(df_events.info())\n",
    "print(df_events.head())"
   ]
  },
  {
   "cell_type": "code",
   "execution_count": 4,
   "metadata": {},
   "outputs": [
    {
     "name": "stdout",
     "output_type": "stream",
     "text": [
      "Index(['event_name', 'device_id_hash', 'event_time_stamp', 'exp_id'], dtype='object')\n"
     ]
    }
   ],
   "source": [
    "#Cambiar nombre de columnas\n",
    "df_events.columns = ['event_name', 'device_id_hash', 'event_time_stamp', 'exp_id']\n",
    "print(df_events.columns)"
   ]
  },
  {
   "cell_type": "code",
   "execution_count": 5,
   "metadata": {},
   "outputs": [
    {
     "data": {
      "text/plain": [
       "array(['MainScreenAppear', 'PaymentScreenSuccessful', 'CartScreenAppear',\n",
       "       'OffersScreenAppear', 'Tutorial'], dtype=object)"
      ]
     },
     "execution_count": 5,
     "metadata": {},
     "output_type": "execute_result"
    }
   ],
   "source": [
    "#corroborar nombres de events\n",
    "df_events['event_name'].unique()"
   ]
  },
  {
   "cell_type": "code",
   "execution_count": 6,
   "metadata": {},
   "outputs": [
    {
     "name": "stdout",
     "output_type": "stream",
     "text": [
      "<class 'pandas.core.frame.DataFrame'>\n",
      "RangeIndex: 244126 entries, 0 to 244125\n",
      "Data columns (total 4 columns):\n",
      " #   Column            Non-Null Count   Dtype         \n",
      "---  ------            --------------   -----         \n",
      " 0   event_name        244126 non-null  object        \n",
      " 1   device_id_hash    244126 non-null  int64         \n",
      " 2   event_time_stamp  244126 non-null  datetime64[ns]\n",
      " 3   exp_id            244126 non-null  int64         \n",
      "dtypes: datetime64[ns](1), int64(2), object(1)\n",
      "memory usage: 7.5+ MB\n"
     ]
    }
   ],
   "source": [
    "#Cambiar a datetime\n",
    "df_events['event_time_stamp'] = pd.to_datetime(df_events['event_time_stamp'], unit='s')\n",
    "df_events.info()"
   ]
  },
  {
   "cell_type": "code",
   "execution_count": 7,
   "metadata": {},
   "outputs": [
    {
     "name": "stdout",
     "output_type": "stream",
     "text": [
      "--- Datos y Tipos de Datos (Después de la preparación) ---\n",
      "<class 'pandas.core.frame.DataFrame'>\n",
      "RangeIndex: 244126 entries, 0 to 244125\n",
      "Data columns (total 5 columns):\n",
      " #   Column            Non-Null Count   Dtype         \n",
      "---  ------            --------------   -----         \n",
      " 0   event_name        244126 non-null  object        \n",
      " 1   device_id_hash    244126 non-null  int64         \n",
      " 2   event_time_stamp  244126 non-null  datetime64[ns]\n",
      " 3   exp_id            244126 non-null  int64         \n",
      " 4   date              244126 non-null  object        \n",
      "dtypes: datetime64[ns](1), int64(2), object(2)\n",
      "memory usage: 9.3+ MB\n",
      "None\n",
      "\n",
      "Primeras filas del DataFrame:\n",
      "                event_name       device_id_hash    event_time_stamp  exp_id  \\\n",
      "0         MainScreenAppear  4575588528974610257 2019-07-25 04:43:36     246   \n",
      "1         MainScreenAppear  7416695313311560658 2019-07-25 11:11:42     246   \n",
      "2  PaymentScreenSuccessful  3518123091307005509 2019-07-25 11:28:47     248   \n",
      "3         CartScreenAppear  3518123091307005509 2019-07-25 11:28:47     248   \n",
      "4  PaymentScreenSuccessful  6217807653094995999 2019-07-25 11:48:42     248   \n",
      "\n",
      "         date  \n",
      "0  2019-07-25  \n",
      "1  2019-07-25  \n",
      "2  2019-07-25  \n",
      "3  2019-07-25  \n",
      "4  2019-07-25  \n"
     ]
    }
   ],
   "source": [
    "#Agregar columna de fecha y hora\n",
    "df_events['date'] = df_events['event_time_stamp'].dt.date\n",
    "\n",
    "print(\"--- Datos y Tipos de Datos (Después de la preparación) ---\")\n",
    "print(df_events.info())\n",
    "print(\"\\nPrimeras filas del DataFrame:\")\n",
    "print(df_events.head())"
   ]
  },
  {
   "cell_type": "code",
   "execution_count": 8,
   "metadata": {},
   "outputs": [
    {
     "name": "stdout",
     "output_type": "stream",
     "text": [
      "\n",
      "Número de filas duplicadas (Eventos idénticos): 413\n",
      "Total de eventos después de eliminar duplicados: 243713\n"
     ]
    }
   ],
   "source": [
    "#Corroborar valores duplicados\n",
    "print(f\"\\nNúmero de filas duplicadas (Eventos idénticos): {df_events.duplicated().sum()}\")\n",
    "df_events = df_events.drop_duplicates().reset_index(drop=True)\n",
    "print(f\"Total de eventos después de eliminar duplicados: {len(df_events)}\")"
   ]
  },
  {
   "cell_type": "markdown",
   "metadata": {},
   "source": [
    "## Estudiar y comprobar los datos"
   ]
  },
  {
   "cell_type": "code",
   "execution_count": 9,
   "metadata": {},
   "outputs": [
    {
     "name": "stdout",
     "output_type": "stream",
     "text": [
      "Total de eventos en los registros: 243713\n",
      "Total de usuarios en los registros: 7551\n",
      "Promedio de eventos por usuario: 32.28\n"
     ]
    }
   ],
   "source": [
    "# 1. ¿Cuántos eventos hay en los registros?\n",
    "total_events = len(df_events)\n",
    "print(f\"Total de eventos en los registros: {total_events}\")\n",
    "\n",
    "# 2. ¿Cuántos usuarios hay en los registros?\n",
    "total_users = df_events['device_id_hash'].nunique()\n",
    "print(f\"Total de usuarios en los registros: {total_users}\")\n",
    "\n",
    "# 3. ¿Cuál es el promedio de eventos por usuario?\n",
    "avg_events_per_user = total_events / total_users\n",
    "print(f\"Promedio de eventos por usuario: {avg_events_per_user:.2f}\")\n"
   ]
  },
  {
   "cell_type": "code",
   "execution_count": 10,
   "metadata": {},
   "outputs": [
    {
     "name": "stdout",
     "output_type": "stream",
     "text": [
      "Fecha mínima (inicio del registro): 2019-07-25 04:43:36\n",
      "Fecha máxima (fin del registro): 2019-08-07 21:15:17\n"
     ]
    },
    {
     "data": {
      "image/png": "[encoded data removed]",
      "text/plain": [
       "<Figure size 1200x500 with 1 Axes>"
      ]
     },
     "metadata": {},
     "output_type": "display_data"
    }
   ],
   "source": [
    "# 4. ¿Qué periodo de tiempo cubren los datos?\n",
    "min_date = df_events['event_time_stamp'].min()\n",
    "max_date = df_events['event_time_stamp'].max()\n",
    "print(f\"Fecha mínima (inicio del registro): {min_date}\")\n",
    "print(f\"Fecha máxima (fin del registro): {max_date}\")\n",
    "\n",
    "#Trazar un histograma por fecha y hora para verificar la completitud\n",
    "plt.figure(figsize=(12, 5))\n",
    "df_events['event_time_stamp'].hist(bins=200, edgecolor='black')\n",
    "plt.title('Distribución de Eventos por Fecha y Hora')\n",
    "plt.xlabel('Fecha y Hora')\n",
    "plt.ylabel('Número de Eventos')\n",
    "plt.grid(True, alpha=0.5)\n",
    "plt.xticks(rotation=45)\n",
    "plt.tight_layout()\n",
    "plt.show()\n",
    "\n",
    "# --- Filtrado de datos por período completo ---\n",
    "# El histograma muestra que los datos se vuelven completos a partir del 1 de agosto de 2019.\n",
    "# Vamos a usar esa fecha como nuestro punto de corte (start_date).\n",
    "start_date = dt.datetime(2019, 8, 1)\n",
    "\n",
    "events_before_filtering = len(df_events)\n",
    "users_before_filtering = df_events['device_id_hash'].nunique()\n",
    "\n",
    "df_events_filtered = df_events[df_events['event_time_stamp'] >= start_date].copy()"
   ]
  },
  {
   "cell_type": "markdown",
   "metadata": {},
   "source": [
    "Observamos que nuestra fecha de corta debe ser 01-08-2019, ya que a partir de esa fecha observamos distribución de los datos"
   ]
  },
  {
   "cell_type": "code",
   "execution_count": 11,
   "metadata": {},
   "outputs": [
    {
     "name": "stdout",
     "output_type": "stream",
     "text": [
      "\n",
      "--- Filtrado de Datos ---\n",
      "Se ignorarán los datos anteriores a: 2019-08-01\n",
      "Eventos perdidos: 1.16%\n",
      "Usuarios perdidos: 0.23%\n",
      "Período de análisis real: Del 2019-08-01 al 2019-08-07\n",
      "\n",
      "Usuarios por grupo experimental (después del filtrado):\n",
      "exp_id\n",
      "246    2484\n",
      "247    2513\n",
      "248    2537\n",
      "Name: device_id_hash, dtype: int64\n",
      "\n",
      "Usuarios contaminados (en múltiples grupos): 0\n",
      "Usuarios finales para el análisis: 7534\n",
      "Eventos finales para el análisis: 240887\n"
     ]
    }
   ],
   "source": [
    "# 6. ¿Perdiste muchos eventos y usuarios al excluir los datos más antiguos?\n",
    "events_after_filtering = len(df_events_filtered)\n",
    "users_after_filtering = df_events_filtered['device_id_hash'].nunique()\n",
    "\n",
    "events_lost_percent = ((events_before_filtering - events_after_filtering) / events_before_filtering) * 100\n",
    "users_lost_percent = ((users_before_filtering - users_after_filtering) / users_before_filtering) * 100\n",
    "\n",
    "print(f\"\\n--- Filtrado de Datos ---\")\n",
    "print(f\"Se ignorarán los datos anteriores a: {start_date.strftime('%Y-%m-%d')}\")\n",
    "print(f\"Eventos perdidos: {events_lost_percent:.2f}%\")\n",
    "print(f\"Usuarios perdidos: {users_lost_percent:.2f}%\")\n",
    "\n",
    "# ¿Qué periodo representan realmente los datos?\n",
    "real_min_date = df_events_filtered['event_time_stamp'].min()\n",
    "real_max_date = df_events_filtered['event_time_stamp'].max()\n",
    "print(f\"Período de análisis real: Del {real_min_date.strftime('%Y-%m-%d')} al {real_max_date.strftime('%Y-%m-%d')}\")\n",
    "\n",
    "# 7. Asegurarse de tener usuarios de los tres grupos experimentales (con datos filtrados)\n",
    "exp_users = df_events_filtered.groupby('exp_id')['device_id_hash'].nunique()\n",
    "print(f\"\\nUsuarios por grupo experimental (después del filtrado):\")\n",
    "print(exp_users)\n",
    "\n",
    "\n",
    "# --- Preparación final para el embudo (Paso 4) ---\n",
    "# Creamos un DF que asocia cada usuario con su grupo de experimento\n",
    "user_groups = df_events_filtered[['device_id_hash', 'exp_id']].drop_duplicates()\n",
    "# Verificamos que no haya usuarios en varios grupos (contaminación)\n",
    "user_contamination = user_groups.groupby('device_id_hash').filter(lambda x: len(x) > 1)['device_id_hash'].nunique()\n",
    "print(f\"\\nUsuarios contaminados (en múltiples grupos): {user_contamination}\")\n",
    "\n",
    "# Los eliminamos del set de datos filtrado\n",
    "if user_contamination > 0:\n",
    "    contaminated_users = user_groups.groupby('device_id_hash').filter(lambda x: len(x) > 1)['device_id_hash'].unique()\n",
    "    df_events_clean = df_events_filtered[~df_events_filtered['device_id_hash'].isin(contaminated_users)].copy()\n",
    "else:\n",
    "    df_events_clean = df_events_filtered.copy()\n",
    "\n",
    "print(f\"Usuarios finales para el análisis: {df_events_clean['device_id_hash'].nunique()}\")\n",
    "print(f\"Eventos finales para el análisis: {len(df_events_clean)}\")"
   ]
  },
  {
   "cell_type": "markdown",
   "metadata": {},
   "source": [
    "## Estudiar el embudo de eventos"
   ]
  },
  {
   "cell_type": "code",
   "execution_count": 12,
   "metadata": {},
   "outputs": [
    {
     "name": "stdout",
     "output_type": "stream",
     "text": [
      "\n",
      "Eventos por frecuencia de suceso:\n",
      "event_name\n",
      "MainScreenAppear           117328\n",
      "OffersScreenAppear          46333\n",
      "CartScreenAppear            42303\n",
      "PaymentScreenSuccessful     33918\n",
      "Tutorial                     1005\n",
      "Name: event_count, dtype: int64\n",
      "\n",
      "Usuarios únicos por evento y proporción (orden descendente):\n",
      "                         event_count  users_count user_share\n",
      "event_name                                                  \n",
      "MainScreenAppear              117328         7419     98.47%\n",
      "OffersScreenAppear             46333         4593     60.96%\n",
      "CartScreenAppear               42303         3734     49.56%\n",
      "PaymentScreenSuccessful        33918         3539     46.97%\n",
      "Tutorial                        1005          840     11.15%\n"
     ]
    }
   ],
   "source": [
    "# 1. Observa qué eventos hay en los registros y su frecuencia de suceso. Ordénalos por frecuencia.\n",
    "events_frequency = df_events_clean.groupby('event_name')['event_name'].count().sort_values(ascending=False).rename('event_count')\n",
    "print(\"\\nEventos por frecuencia de suceso:\")\n",
    "print(events_frequency)\n",
    "\n",
    "# 2. Encuentra la cantidad de usuarios que realizaron cada una de estas acciones.\n",
    "users_by_event = df_events_clean.groupby('event_name')['device_id_hash'].nunique().sort_values(ascending=False).rename('users_count')\n",
    "\n",
    "# 3. Combina los datos de eventos y usuarios\n",
    "funnel_data = pd.concat([events_frequency, users_by_event], axis=1)\n",
    "\n",
    "# AGREGAR ESTA LÍNEA:\n",
    "total_users_final_analysis = df_events_clean['device_id_hash'].nunique()\n",
    "\n",
    "# 4. Calcula la proporción de usuarios que realizaron la acción al menos una vez.\n",
    "funnel_data['user_share'] = funnel_data['users_count'] / total_users_final_analysis\n",
    "funnel_data['user_share'] = funnel_data['user_share'].map('{:.2%}'.format)\n",
    "\n",
    "print(\"\\nUsuarios únicos por evento y proporción (orden descendente):\")\n",
    "print(funnel_data.sort_values(by='users_count', ascending=False))\n"
   ]
  },
  {
   "cell_type": "code",
   "execution_count": 13,
   "metadata": {},
   "outputs": [
    {
     "data": {
      "text/html": [
       "<div>\n",
       "<style scoped>\n",
       "    .dataframe tbody tr th:only-of-type {\n",
       "        vertical-align: middle;\n",
       "    }\n",
       "\n",
       "    .dataframe tbody tr th {\n",
       "        vertical-align: top;\n",
       "    }\n",
       "\n",
       "    .dataframe thead th {\n",
       "        text-align: right;\n",
       "    }\n",
       "</style>\n",
       "<table border=\"1\" class=\"dataframe\">\n",
       "  <thead>\n",
       "    <tr style=\"text-align: right;\">\n",
       "      <th></th>\n",
       "      <th>event_count</th>\n",
       "      <th>users_count</th>\n",
       "      <th>user_share</th>\n",
       "    </tr>\n",
       "    <tr>\n",
       "      <th>funnel_step</th>\n",
       "      <th></th>\n",
       "      <th></th>\n",
       "      <th></th>\n",
       "    </tr>\n",
       "  </thead>\n",
       "  <tbody>\n",
       "    <tr>\n",
       "      <th>MainScreenAppear</th>\n",
       "      <td>117328</td>\n",
       "      <td>7419</td>\n",
       "      <td>98.47%</td>\n",
       "    </tr>\n",
       "    <tr>\n",
       "      <th>OffersScreenAppear</th>\n",
       "      <td>46333</td>\n",
       "      <td>4593</td>\n",
       "      <td>60.96%</td>\n",
       "    </tr>\n",
       "    <tr>\n",
       "      <th>CartScreenAppear</th>\n",
       "      <td>42303</td>\n",
       "      <td>3734</td>\n",
       "      <td>49.56%</td>\n",
       "    </tr>\n",
       "    <tr>\n",
       "      <th>PaymentScreenSuccessful</th>\n",
       "      <td>33918</td>\n",
       "      <td>3539</td>\n",
       "      <td>46.97%</td>\n",
       "    </tr>\n",
       "  </tbody>\n",
       "</table>\n",
       "</div>"
      ],
      "text/plain": [
       "                         event_count  users_count user_share\n",
       "funnel_step                                                 \n",
       "MainScreenAppear              117328         7419     98.47%\n",
       "OffersScreenAppear             46333         4593     60.96%\n",
       "CartScreenAppear               42303         3734     49.56%\n",
       "PaymentScreenSuccessful        33918         3539     46.97%"
      ]
     },
     "execution_count": 13,
     "metadata": {},
     "output_type": "execute_result"
    }
   ],
   "source": [
    "# --- Embudo de Conversión (Asumiendo un orden lógico) ---\n",
    "\n",
    "# Orden Lógico Asumido:\n",
    "# 1. MainScreenAppear (Inicio)\n",
    "# 2. OffersScreenAppear (Visualización de ofertas / catálogo)\n",
    "# 3. CartScreenAppear (Agregar al carrito)\n",
    "# 4. PaymentScreenSuccessful (Compra / Pago)\n",
    "\n",
    "event_order = [\n",
    "    'MainScreenAppear',\n",
    "    'OffersScreenAppear',\n",
    "    'CartScreenAppear',\n",
    "    'PaymentScreenSuccessful'\n",
    "]\n",
    "\n",
    "# Creamos un DF con solo los eventos del embudo\n",
    "funnel_df = funnel_data.loc[event_order].copy()\n",
    "funnel_df = funnel_df.rename_axis('funnel_step')\n",
    "funnel_df"
   ]
  },
  {
   "cell_type": "markdown",
   "metadata": {},
   "source": [
    "En esta DF observamos el embudo al corroborar cómo los porcentajes se van reduciendo de un evento a otro."
   ]
  },
  {
   "cell_type": "code",
   "execution_count": 14,
   "metadata": {},
   "outputs": [
    {
     "name": "stdout",
     "output_type": "stream",
     "text": [
      "\n",
      "Análisis del Embudo de Conversión:\n",
      "                         total_users step_conversion drop_off_rate  \\\n",
      "funnel_step                                                          \n",
      "MainScreenAppear                7419         100.00%         0.00%   \n",
      "OffersScreenAppear              4593          61.91%        38.09%   \n",
      "CartScreenAppear                3734          81.30%        18.70%   \n",
      "PaymentScreenSuccessful         3539          94.78%         5.22%   \n",
      "\n",
      "                        overall_conversion  \n",
      "funnel_step                                 \n",
      "MainScreenAppear                   100.00%  \n",
      "OffersScreenAppear                  61.91%  \n",
      "CartScreenAppear                    50.33%  \n",
      "PaymentScreenSuccessful             47.70%  \n"
     ]
    }
   ],
   "source": [
    "# 5. Calcular la proporción de usuarios que pasan de una etapa a la siguiente\n",
    "\n",
    "# Agregamos la columna de total de usuarios (ya ordenada por el embudo)\n",
    "funnel_df['total_users'] = funnel_df['users_count']\n",
    "\n",
    "# Tasa de abandono (Drop-off Rate)\n",
    "funnel_df['drop_off_rate'] = (funnel_df['total_users'].shift(1) - funnel_df['total_users']) / funnel_df['total_users'].shift(1)\n",
    "funnel_df['drop_off_rate'] = funnel_df['drop_off_rate'].fillna(0).map('{:.2%}'.format)\n",
    "\n",
    "# Tasa de conversión de paso a paso (Step-to-Step Conversion)\n",
    "funnel_df['step_conversion'] = funnel_df['total_users'] / funnel_df['total_users'].shift(1)\n",
    "funnel_df['step_conversion'] = funnel_df['step_conversion'].fillna(1).map('{:.2%}'.format)\n",
    "\n",
    "# Tasa de conversión acumulada (Overall Conversion)\n",
    "funnel_df['overall_conversion'] = funnel_df['total_users'] / funnel_df['total_users'].iloc[0]\n",
    "funnel_df['overall_conversion'] = funnel_df['overall_conversion'].map('{:.2%}'.format)\n",
    "\n",
    "# Mostrar el embudo\n",
    "print(\"\\nAnálisis del Embudo de Conversión:\")\n",
    "print(funnel_df[['total_users', 'step_conversion', 'drop_off_rate', 'overall_conversion']])"
   ]
  },
  {
   "cell_type": "code",
   "execution_count": 15,
   "metadata": {
    "scrolled": true
   },
   "outputs": [
    {
     "name": "stdout",
     "output_type": "stream",
     "text": [
      "\n",
      "Porcentaje de usuarios que hacen el viaje completo (desde el primer paso hasta el pago): 47.70%\n"
     ]
    },
    {
     "data": {
      "image/png": "[encoded data removed]",
      "text/plain": [
       "<Figure size 1000x600 with 1 Axes>"
      ]
     },
     "metadata": {},
     "output_type": "display_data"
    }
   ],
   "source": [
    "# 6. ¿Qué porcentaje de usuarios hace todo el viaje desde su primer evento hasta el pago?\n",
    "initial_users = funnel_df.loc['MainScreenAppear', 'total_users']\n",
    "final_users = funnel_df.loc['PaymentScreenSuccessful', 'total_users']\n",
    "total_conversion = final_users / initial_users\n",
    "print(f\"\\nPorcentaje de usuarios que hacen el viaje completo (desde el primer paso hasta el pago): {total_conversion:.2%}\")\n",
    "\n",
    "# Gráfico de Embudo (Visualización de la pérdida de usuarios con etiquetas de porcentaje)\n",
    "plt.figure(figsize=(10, 6))\n",
    "bars = funnel_df['total_users'].plot(kind='bar', color=['#4C72B0', '#55A868', '#C44E52', '#8172B2'])\n",
    "\n",
    "# Función para añadir etiquetas de porcentaje en la parte superior de cada barra\n",
    "for i, bar in enumerate(bars.patches):\n",
    "    # Porcentaje de conversión acumulada (ya es string)\n",
    "    conversion_rate = funnel_df['overall_conversion'].iloc[i]\n",
    "    yval = bar.get_height()\n",
    "    \n",
    "    # Usar directamente la cadena (ya tiene formato de porcentaje)\n",
    "    percentage_text = conversion_rate\n",
    "    \n",
    "    # Agregar el texto al gráfico\n",
    "    plt.text(bar.get_x() + bar.get_width()/2, yval + 10, percentage_text, ha='center', va='bottom', fontsize=10, weight='bold')\n",
    "\n",
    "\n",
    "plt.title('Pérdida de Usuarios en el Embudo de Ventas (con Conversión Acumulada)')\n",
    "plt.xlabel('Etapa del Embudo')\n",
    "plt.ylabel('Número de Usuarios Únicos')\n",
    "plt.xticks(rotation=45, ha='right')\n",
    "plt.grid(axis='y', alpha=0.5)\n",
    "plt.tight_layout()\n",
    "plt.show()"
   ]
  },
  {
   "cell_type": "markdown",
   "metadata": {},
   "source": [
    "Observamos cómo el porcentaje de los usuarios que pasan de una etapa a otra va disminuyendo. Vemos la mayor pérdida de usuarios con una caída del 38% de la pantalla principal a la pantalla de ofertas, después de eso los usuarios disminuyen muy poco. Para finalmente quedarnos con el 47% de los usuarios que realizan el pago exitosamente. "
   ]
  },
  {
   "cell_type": "markdown",
   "metadata": {},
   "source": [
    "## Estudiar los resultados del experimento "
   ]
  },
  {
   "cell_type": "code",
   "execution_count": 16,
   "metadata": {},
   "outputs": [
    {
     "name": "stdout",
     "output_type": "stream",
     "text": [
      "\n",
      "Usuarios únicos por grupo (246 y 247: Control A/A, 248: Prueba B):\n",
      "exp_id\n",
      "246    2484\n",
      "247    2513\n",
      "248    2537\n",
      "Name: device_id_hash, dtype: int64\n"
     ]
    }
   ],
   "source": [
    "# 1. Conteo de usuarios por grupo\n",
    "users_by_group = df_events_clean.groupby('exp_id')['device_id_hash'].nunique()\n",
    "print(\"\\nUsuarios únicos por grupo (246 y 247: Control A/A, 248: Prueba B):\")\n",
    "print(users_by_group)\n",
    "\n",
    "# Definición de variables clave\n",
    "alpha = 0.05\n",
    "events_list = df_events_clean['event_name'].unique()\n",
    "total_tests = len(events_list) * 4 # 5 eventos * 4 comparaciones\n",
    "alpha_bonferroni = 0.05 / total_tests\n",
    "\n",
    "group_246_users = users_by_group.loc[246]\n",
    "group_247_users = users_by_group.loc[247]\n",
    "group_248_users = users_by_group.loc[248]\n",
    "group_control_combined_users = group_246_users + group_247_users"
   ]
  },
  {
   "cell_type": "code",
   "execution_count": 17,
   "metadata": {},
   "outputs": [],
   "source": [
    "# 2. Definición de la función para la prueba de proporciones (para reutilizarla)\n",
    "def check_significance(group1_users, group2_users, group1_id, group2_id, event_name, alpha=0.05):\n",
    "    \"\"\"\n",
    "    Realiza la prueba Z para la diferencia entre dos proporciones.\n",
    "    Compara dos grupos individuales.\n",
    "    \"\"\"\n",
    "    \n",
    "    # Éxitos: Usuarios únicos que realizaron el evento en cada grupo\n",
    "    successes = np.array([\n",
    "        df_events_clean[df_events_clean['exp_id'] == group1_id].groupby('event_name')['device_id_hash'].nunique().get(event_name, 0),\n",
    "        df_events_clean[df_events_clean['exp_id'] == group2_id].groupby('event_name')['device_id_hash'].nunique().get(event_name, 0)\n",
    "    ])\n",
    "    \n",
    "    # Muestras: Total de usuarios únicos en cada grupo\n",
    "    samples = np.array([group1_users, group2_users])\n",
    "    \n",
    "    # Prueba Z para proporciones\n",
    "    z_stat, p_value = proportions_ztest(successes, samples, alternative='two-sided')\n",
    "    \n",
    "    # Calculamos la proporción relativa (Grupo 2 vs Grupo 1)\n",
    "    prop1 = successes[0] / samples[0]\n",
    "    prop2 = successes[1] / samples[1]\n",
    "    \n",
    "    relative_diff = (prop2 / prop1 - 1) * 100 if prop1 != 0 else np.nan\n",
    "        \n",
    "    return p_value, relative_diff\n",
    "\n",
    "def check_significance_combined(group_control_combined_users, group2_users, event_name, alpha=0.05):\n",
    "    \"\"\"\n",
    "    Realiza la prueba Z comparando el grupo combinado (246+247) vs el grupo de prueba (248).\n",
    "    \"\"\"\n",
    "    \n",
    "    # Éxitos combinados del control\n",
    "    successes_246 = df_events_clean[df_events_clean['exp_id'] == 246].groupby('event_name')['device_id_hash'].nunique().get(event_name, 0)\n",
    "    successes_247 = df_events_clean[df_events_clean['exp_id'] == 247].groupby('event_name')['device_id_hash'].nunique().get(event_name, 0)\n",
    "    successes_248 = df_events_clean[df_events_clean['exp_id'] == 248].groupby('event_name')['device_id_hash'].nunique().get(event_name, 0)\n",
    "    \n",
    "    successes_combined = successes_246 + successes_247\n",
    "    \n",
    "    # Arrays para la prueba Z\n",
    "    successes = np.array([successes_combined, successes_248])\n",
    "    samples = np.array([group_control_combined_users, group_248_users])\n",
    "    \n",
    "    z_stat, p_value = proportions_ztest(successes, samples, alternative='two-sided')\n",
    "    \n",
    "    # Calculamos la proporción relativa (Grupo 248 vs Combinado)\n",
    "    prop1 = successes_combined / group_control_combined_users\n",
    "    prop2 = successes_248 / group_248_users\n",
    "    \n",
    "    relative_diff = (prop2 / prop1 - 1) * 100 if prop1 != 0 else np.nan\n",
    "        \n",
    "    return p_value, relative_diff"
   ]
  },
  {
   "cell_type": "markdown",
   "metadata": {
    "jp-MarkdownHeadingCollapsed": true
   },
   "source": [
    "### Prueba A/A"
   ]
  },
  {
   "cell_type": "code",
   "execution_count": 18,
   "metadata": {},
   "outputs": [
    {
     "name": "stdout",
     "output_type": "stream",
     "text": [
      "\n",
      "--- Test A/A (Grupos de Control 246 vs 247) con Bonferroni $\\alpha=0.0025$ ---\n",
      "\n",
      "--- Resumen del Test A/A ---\n",
      "                         p_value  relative_diff  significant_bonf\n",
      "Tutorial                  0.9377         0.6238             False\n",
      "MainScreenAppear          0.7571        -0.1050             False\n",
      "OffersScreenAppear        0.2481        -2.5643             False\n",
      "CartScreenAppear          0.2288        -3.3402             False\n",
      "PaymentScreenSuccessful   0.1146        -4.6136             False\n",
      "Conclusión A/A: Hay 0 evento(s) con diferencia significativa al aplicar Bonferroni. Esto confirma que los grupos de control son similares.\n"
     ]
    }
   ],
   "source": [
    "# --- 3. Test A/A: Comprobamos si hay diferencia entre los grupos de control 246 y 247.\n",
    "print(f\"\\n--- Test A/A (Grupos de Control 246 vs 247) con Bonferroni $\\\\alpha={alpha_bonferroni:.4f}$ ---\")\n",
    "aa_results = {}\n",
    "for event in events_list:\n",
    "    p_value, relative_diff = check_significance(group_246_users, group_247_users, 246, 247, event, alpha_bonferroni)\n",
    "    aa_results[event] = {'p_value': p_value, 'relative_diff': relative_diff}\n",
    "\n",
    "aa_summary = pd.DataFrame(aa_results).T\n",
    "aa_summary['significant_bonf'] = aa_summary['p_value'] < alpha_bonferroni\n",
    "print(\"\\n--- Resumen del Test A/A ---\")\n",
    "print(aa_summary.round(4)) \n",
    "print(f\"Conclusión A/A: Hay {aa_summary['significant_bonf'].sum()} evento(s) con diferencia significativa al aplicar Bonferroni. Esto confirma que los grupos de control son similares.\")"
   ]
  },
  {
   "cell_type": "markdown",
   "metadata": {},
   "source": [
    "#### Conclusión"
   ]
  },
  {
   "cell_type": "markdown",
   "metadata": {},
   "source": [
    "Con esto comprobamos que no existe ninguna diferencia significativamente estadística entre el grupo AA lo cual es esperado ya que ambos grupos están viendo la misma versión de la aplicación. Este resultado nos confirma que el mecanismo de asignación de usuarios está funcionado correctamente y podemos continuar con la prueba A/B"
   ]
  },
  {
   "cell_type": "markdown",
   "metadata": {
    "jp-MarkdownHeadingCollapsed": true
   },
   "source": [
    "### Prueba A/B"
   ]
  },
  {
   "cell_type": "markdown",
   "metadata": {
    "jp-MarkdownHeadingCollapsed": true
   },
   "source": [
    "#### Prueba A-B individual"
   ]
  },
  {
   "cell_type": "code",
   "execution_count": 19,
   "metadata": {},
   "outputs": [
    {
     "name": "stdout",
     "output_type": "stream",
     "text": [
      "\n",
      "--- Test A/B (Grupo de Prueba 248 vs Control 246) con Bonferroni $\\alpha=0.0025$ ---\n",
      "\n",
      "--- Resumen del Test A/B (246 vs 248) ---\n",
      "                         p_value  relative_diff  significant_bonf\n",
      "Tutorial                  0.8264        -1.7369             False\n",
      "MainScreenAppear          0.2950        -0.3706             False\n",
      "OffersScreenAppear        0.2084        -2.7875             False\n",
      "CartScreenAppear          0.0784        -4.8733             False\n",
      "PaymentScreenSuccessful   0.2123        -3.6393             False\n"
     ]
    }
   ],
   "source": [
    "# Comparación A vs B (246 vs 248)\n",
    "print(f\"\\n--- Test A/B (Grupo de Prueba 248 vs Control 246) con Bonferroni $\\\\alpha={alpha_bonferroni:.4f}$ ---\")\n",
    "ab_246_results = {}\n",
    "for event in events_list:\n",
    "    p_value, relative_diff = check_significance(group_246_users, group_248_users, 246, 248, event, alpha_bonferroni)\n",
    "    ab_246_results[event] = {'p_value': p_value, 'relative_diff': relative_diff}\n",
    "\n",
    "ab_246_summary = pd.DataFrame(ab_246_results).T\n",
    "ab_246_summary['significant_bonf'] = ab_246_summary['p_value'] < alpha_bonferroni\n",
    "print(\"\\n--- Resumen del Test A/B (246 vs 248) ---\")\n",
    "print(ab_246_summary.to_string(float_format='%.4f'))\n"
   ]
  },
  {
   "cell_type": "markdown",
   "metadata": {},
   "source": [
    "Conclusión: No encontramos diferencia estadísticamente significativa en ninguno de los eventos. "
   ]
  },
  {
   "cell_type": "code",
   "execution_count": 20,
   "metadata": {},
   "outputs": [
    {
     "name": "stdout",
     "output_type": "stream",
     "text": [
      "\n",
      "--- Test A/B (Grupo de Prueba 248 vs Control 247) con Bonferroni $\\alpha=0.0025$ ---\n",
      "\n",
      "--- Resumen del Test A/B (247 vs 248) ---\n",
      "                         p_value  relative_diff  significant_bonf\n",
      "Tutorial                  0.7653        -2.3461             False\n",
      "MainScreenAppear          0.4587        -0.2659             False\n",
      "OffersScreenAppear        0.9198        -0.2292             False\n",
      "CartScreenAppear          0.5786        -1.5861             False\n",
      "PaymentScreenSuccessful   0.7373         1.0214             False\n"
     ]
    }
   ],
   "source": [
    "# Comparación A vs B (247 vs 248)\n",
    "print(f\"\\n--- Test A/B (Grupo de Prueba 248 vs Control 247) con Bonferroni $\\\\alpha={alpha_bonferroni:.4f}$ ---\")\n",
    "ab_247_results = {}\n",
    "for event in events_list:\n",
    "    p_value, relative_diff = check_significance(group_247_users, group_248_users, 247, 248, event, alpha_bonferroni)\n",
    "    ab_247_results[event] = {'p_value': p_value, 'relative_diff': relative_diff}\n",
    "\n",
    "ab_247_summary = pd.DataFrame(ab_247_results).T\n",
    "ab_247_summary['significant_bonf'] = ab_247_summary['p_value'] < alpha_bonferroni\n",
    "print(\"\\n--- Resumen del Test A/B (247 vs 248) ---\")\n",
    "print(ab_247_summary.to_string(float_format='%.4f'))"
   ]
  },
  {
   "cell_type": "markdown",
   "metadata": {},
   "source": [
    "Conclusión: No encontramos diferencia estadísticamente significativa en ninguno de los eventos."
   ]
  },
  {
   "cell_type": "markdown",
   "metadata": {
    "jp-MarkdownHeadingCollapsed": true
   },
   "source": [
    "#### Prueba A/B combinada"
   ]
  },
  {
   "cell_type": "code",
   "execution_count": 21,
   "metadata": {},
   "outputs": [
    {
     "name": "stdout",
     "output_type": "stream",
     "text": [
      "\n",
      "--- Test A/B (Grupo de Prueba 248 vs Control Combinado (246+247)) con Bonferroni $\\alpha=0.0025$ ---\n",
      "\n",
      "--- Resumen del Test A/B (246+247 vs 248) ---\n",
      "                         p_value  relative_diff  significant_bonf\n",
      "Tutorial                  0.7649        -2.0442             False\n",
      "MainScreenAppear          0.2942        -0.3180             False\n",
      "OffersScreenAppear        0.4343        -1.5175             False\n",
      "CartScreenAppear          0.1818        -3.2481             False\n",
      "PaymentScreenSuccessful   0.6004        -1.3505             False\n"
     ]
    }
   ],
   "source": [
    "# --- 5. Test A/B (Combinado) ---\n",
    "print(f\"\\n--- Test A/B (Grupo de Prueba 248 vs Control Combinado (246+247)) con Bonferroni $\\\\alpha={alpha_bonferroni:.4f}$ ---\")\n",
    "ab_combined_results = {}\n",
    "for event in events_list:\n",
    "    p_value, relative_diff = check_significance_combined(group_control_combined_users, group_248_users, event, alpha_bonferroni)\n",
    "    ab_combined_results[event] = {'p_value': p_value, 'relative_diff': relative_diff}\n",
    "\n",
    "ab_combined_summary = pd.DataFrame(ab_combined_results).T\n",
    "ab_combined_summary['significant_bonf'] = ab_combined_summary['p_value'] < alpha_bonferroni\n",
    "print(\"\\n--- Resumen del Test A/B (246+247 vs 248) ---\")\n",
    "print(ab_combined_summary.to_string(float_format='%.4f'))"
   ]
  },
  {
   "cell_type": "markdown",
   "metadata": {},
   "source": [
    "Conclusión: No encontramos diferencia estadísticamente significativa en ninguno de los eventos."
   ]
  },
  {
   "cell_type": "markdown",
   "metadata": {},
   "source": [
    "### Conclusión final"
   ]
  },
  {
   "cell_type": "markdown",
   "metadata": {},
   "source": [
    "Para establecer un valor alfa confiable utilizamos la corrección de Bonferroni. Ya que si elegíamos un valor alfa del 0.05, al ser 20 pruebas aumenta el riesgo de falsos positivos y deja de ser 95% confiable. Por lo tanto al hacer esta corrección y divididr el valor alfa de 0.05 que establecimos como inicial, entre la cantidad de pruebas (20), establecimos un nivel de significancia de 0.0025. Esto nos permite que nuestro nivel de confianza siga siendo 95%. Sin embargo, ningún valor de P fue menos a 0.0025, de hecho podemos observar que en todas las pruebas nuestro valor de P se acerca mucho al 1. Por lo tanto podemos afirmar que no existe diferencia significativa en ninguno de los grupos. Esto quiere decir que el equipo de diseño puede cambiar las fuentes de la aplicación, ya que a la gente no le parecen intimidantes. Pues no hubo ninguna diferencia entre los grupos que tenían la fuente antigua y la nueva en ninguno de los eventos. Podemos dar por concluída la prueba y finalizarla. "
   ]
  }
 ],
 "metadata": {
  "kernelspec": {
   "display_name": "Python 3 (ipykernel)",
   "language": "python",
   "name": "python3"
  },
  "language_info": {
   "codemirror_mode": {
    "name": "ipython",
    "version": 3
   },
   "file_extension": ".py",
   "mimetype": "text/x-python",
   "name": "python",
   "nbconvert_exporter": "python",
   "pygments_lexer": "ipython3",
   "version": "3.9.23"
  }
 },
 "nbformat": 4,
 "nbformat_minor": 4
}
